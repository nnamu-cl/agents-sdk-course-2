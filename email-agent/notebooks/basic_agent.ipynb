{
 "cells": [
  {
   "cell_type": "markdown",
   "metadata": {},
   "source": [
    "# Creating a Basic Agent with OpenAI Agents SDK\n",
    "\n",
    "This notebook demonstrates how to create and run a simple agent using the OpenAI Agents SDK."
   ]
  },
  {
   "cell_type": "markdown",
   "metadata": {},
   "source": [
    "## Creating a Basic Agent\n",
    "\n",
    "We'll create a simple agent with basic instructions."
   ]
  },
  {
   "cell_type": "code",
   "execution_count": 10,
   "metadata": {},
   "outputs": [],
   "source": [
    "# Add the project root to the Python path\n",
    "import sys\n",
    "from pathlib import Path\n",
    "import os\n",
    "from dotenv import load_dotenv\n",
    "from agents import set_default_openai_key\n",
    "\n",
    "sys.path.insert(0, \"..\")\n",
    "\n",
    "load_dotenv()\n",
    "\n",
    "openai_api_key = os.environ.get(\"OPENAI_API_KEY\")\n",
    "set_default_openai_key(openai_api_key)"
   ]
  },
  {
   "cell_type": "code",
   "execution_count": 14,
   "metadata": {},
   "outputs": [
    {
     "name": "stdout",
     "output_type": "stream",
     "text": [
      "The capital of the USA is Washington, D.C.\n"
     ]
    }
   ],
   "source": [
    "# Define a basic agent\n",
    "from agents import Agent, Runner\n",
    "\n",
    "# Create the basic agent \n",
    "basic_agent = Agent(\n",
    "    name=\"basic_agent\",\n",
    "    instructions=\"You are a helpful agent that provides concise and accurate information.\"\n",
    ")\n",
    "\n",
    "# Get  output from the agent \n",
    "output = await Runner.run(basic_agent, \"What's the capital of the USA?\")\n",
    "print(output.final_output)\n",
    "\n"
   ]
  },
  {
   "cell_type": "markdown",
   "metadata": {},
   "source": [
    "## Running the Agent\n",
    "\n",
    "Now let's run the agent with a simple question."
   ]
  },
  {
   "cell_type": "code",
   "execution_count": null,
   "metadata": {},
   "outputs": [],
   "source": [
    "# Run the agent with a question\n",
    "result = await AgentRunner.run(basic_agent, [\"What's the capital of the USA?\"])\n",
    "\n",
    "# Print the agent's response\n",
    "print(result.agent_output)"
   ]
  },
  {
   "cell_type": "markdown",
   "metadata": {},
   "source": [
    "## Adding a Simple Tool\n",
    "\n",
    "Now let's create an agent with a basic tool function."
   ]
  },
  {
   "cell_type": "code",
   "execution_count": null,
   "metadata": {},
   "outputs": [],
   "source": [
    "from agents.tool import function_tool\n",
    "\n",
    "# Define a simple calculator tool\n",
    "@function_tool\n",
    "def calculate(expression: str) -> str:\n",
    "    \"\"\"\n",
    "    Evaluates a mathematical expression and returns the result.\n",
    "    \n",
    "    Args:\n",
    "        expression: A string representing a mathematical expression (e.g., \"2 + 2\")\n",
    "        \n",
    "    Returns:\n",
    "        The result of the calculation as a string\n",
    "    \"\"\"\n",
    "    try:\n",
    "        result = eval(expression)\n",
    "        return f\"The result of {expression} is {result}\"\n",
    "    except Exception as e:\n",
    "        return f\"Error calculating {expression}: {str(e)}\""
   ]
  },
  {
   "cell_type": "code",
   "execution_count": null,
   "metadata": {},
   "outputs": [],
   "source": [
    "# Create an agent with the calculator tool\n",
    "calculator_agent = Agent(\n",
    "    name=\"calculator_agent\",\n",
    "    instructions=\"You are a helpful assistant that can perform calculations. When asked about math problems, use the calculate tool.\",\n",
    "    tools=[calculate]\n",
    ")"
   ]
  },
  {
   "cell_type": "code",
   "execution_count": null,
   "metadata": {},
   "outputs": [],
   "source": [
    "# Run the agent with a calculation request\n",
    "result = await AgentRunner.run(calculator_agent, [\"What is 125 * 37?\"])\n",
    "\n",
    "# Print the agent's response\n",
    "print(result.agent_output)"
   ]
  },
  {
   "cell_type": "markdown",
   "metadata": {},
   "source": [
    "## Using Structured Output\n",
    "\n",
    "Let's create an agent that returns structured data using Pydantic models."
   ]
  },
  {
   "cell_type": "code",
   "execution_count": null,
   "metadata": {},
   "outputs": [],
   "source": [
    "from pydantic import BaseModel\n",
    "\n",
    "class WeatherAnswer(BaseModel):\n",
    "    location: str\n",
    "    temperature_c: float\n",
    "    summary: str"
   ]
  },
  {
   "cell_type": "code",
   "execution_count": null,
   "metadata": {},
   "outputs": [],
   "source": [
    "# Create an agent with structured output\n",
    "structured_agent = Agent(\n",
    "    name=\"structured_weather_agent\",\n",
    "    instructions=\"You provide weather information in a structured format. Use the final_output tool with the WeatherAnswer schema.\",\n",
    "    output_type=WeatherAnswer\n",
    ")"
   ]
  },
  {
   "cell_type": "code",
   "execution_count": null,
   "metadata": {},
   "outputs": [],
   "source": [
    "# Run the agent with a weather question\n",
    "result = await AgentRunner.run(structured_agent, [\"What's the weather like in Paris?\"])\n",
    "\n",
    "# Print the structured output\n",
    "print(f\"Location: {result.agent_output.location}\")\n",
    "print(f\"Temperature: {result.agent_output.temperature_c}°C\")\n",
    "print(f\"Summary: {result.agent_output.summary}\")"
   ]
  },
  {
   "cell_type": "markdown",
   "metadata": {},
   "source": [
    "## Using Context\n",
    "\n",
    "Let's create an agent that uses context to maintain state between interactions."
   ]
  },
  {
   "cell_type": "code",
   "execution_count": null,
   "metadata": {},
   "outputs": [],
   "source": [
    "from agents.run_context import AgentContextWrapper\n",
    "\n",
    "class MyContext:\n",
    "    def __init__(self, user_id: str):\n",
    "        self.user_id = user_id\n",
    "        self.interaction_count = 0\n",
    "\n",
    "@function_tool\n",
    "def greet_user(context: AgentContextWrapper[MyContext], greeting: str) -> str:\n",
    "    context.agent_context.interaction_count += 1\n",
    "    return f\"Hello {context.agent_context.user_id}, you said: {greeting}. This is interaction #{context.agent_context.interaction_count}\""
   ]
  },
  {
   "cell_type": "code",
   "execution_count": null,
   "metadata": {},
   "outputs": [],
   "source": [
    "# Create an agent with context\n",
    "context_agent = Agent(\n",
    "    name=\"context_agent\",\n",
    "    instructions=\"You are a friendly agent that greets users by name and keeps track of interactions.\",\n",
    "    context_type=MyContext,\n",
    "    tools=[greet_user]\n",
    ")"
   ]
  },
  {
   "cell_type": "code",
   "execution_count": null,
   "metadata": {},
   "outputs": [],
   "source": [
    "# Create a context object\n",
    "my_context = MyContext(user_id=\"Alice\")\n",
    "\n",
    "# Run the agent with context\n",
    "result = await AgentRunner.run(\n",
    "    context_agent,\n",
    "    input=[\"Hello agent!\"],\n",
    "    context=my_context\n",
    ")\n",
    "\n",
    "print(result.agent_output)"
   ]
  },
  {
   "cell_type": "code",
   "execution_count": null,
   "metadata": {},
   "outputs": [],
   "source": [
    "# Run it again with the same context to see the interaction count increase\n",
    "result = await AgentRunner.run(\n",
    "    context_agent,\n",
    "    input=[\"Hi again!\"],\n",
    "    context=my_context\n",
    ")\n",
    "\n",
    "print(result.agent_output)"
   ]
  }
 ],
 "metadata": {
  "kernelspec": {
   "display_name": ".venv",
   "language": "python",
   "name": "python3"
  },
  "language_info": {
   "codemirror_mode": {
    "name": "ipython",
    "version": 3
   },
   "file_extension": ".py",
   "mimetype": "text/x-python",
   "name": "python",
   "nbconvert_exporter": "python",
   "pygments_lexer": "ipython3",
   "version": "3.9.6"
  }
 },
 "nbformat": 4,
 "nbformat_minor": 4
}
